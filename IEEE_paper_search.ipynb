{
 "cells": [
  {
   "cell_type": "code",
   "execution_count": null,
   "metadata": {},
   "outputs": [],
   "source": [
    "\n",
    "#https://ieeexplore.ieee.org/Xplore/home.jsp\n",
    "    \n",
    "#https://ieeexplore.ieee.org/search/searchresult.jsp?newsearch=true&queryText=image%20processing\n",
    "https://ieeexplore.ieee.org/search/searchresult.jsp?newsearch=true&queryText=image%20processing        \n",
    "        \n",
    "#https://ieeexplore.ieee.org/search/searchresult.jsp?newsearch=true&queryText=image%20processing&highlight=true&returnFacets=ALL&returnType=SEARCH&matchPubs=true&pageNumber=2\n",
    "#https://ieeexplore.ieee.org/search/searchresult.jsp?newsearch=true&queryText=image%20processing2        \n",
    "        \n",
    "#https://ieeexplore.ieee.org/search/searchresult.jsp?newsearch=true&queryText=image%20processing&pageNumber=2\n",
    "&highlight=true&returnFacets=ALL&returnType=SEARCH&matchPubs=true&pageNumber=2        \n",
    "#https://ieeexplore.ieee.org/search/searchresult.jsp?newsearch=true&queryText=image%20processing&pageNumber=4"
   ]
  },
  {
   "cell_type": "code",
   "execution_count": 1,
   "metadata": {},
   "outputs": [
    {
     "name": "stdout",
     "output_type": "stream",
     "text": [
      "200\n"
     ]
    }
   ],
   "source": [
    "import requests\n",
    "\n",
    "res = requests.get('https://ieeexplore.ieee.org/search/searchresult.jsp?newsearch=true&queryText=image%20processing')\n",
    "\n",
    "headers = {\"User-Agent\":\"Mozilla/5.0 (platform; rv:geckoversion) Gecko/geckotrail Firefox/firefoxversion\"}\n",
    "#print(res.text)\n",
    "print(res.status_code)\n"
   ]
  },
  {
   "cell_type": "code",
   "execution_count": 3,
   "metadata": {},
   "outputs": [
    {
     "name": "stdout",
     "output_type": "stream",
     "text": [
      "Requirement already satisfied: mechanize in /home/perman/anaconda3/lib/python3.8/site-packages (0.4.5)\n",
      "Requirement already satisfied: html5lib>=0.999999999 in /home/perman/anaconda3/lib/python3.8/site-packages (from mechanize) (1.1)\n",
      "Requirement already satisfied: six>=1.9 in /home/perman/anaconda3/lib/python3.8/site-packages (from html5lib>=0.999999999->mechanize) (1.15.0)\n",
      "Requirement already satisfied: webencodings in /home/perman/anaconda3/lib/python3.8/site-packages (from html5lib>=0.999999999->mechanize) (0.5.1)\n",
      "Note: you may need to restart the kernel to use updated packages.\n"
     ]
    }
   ],
   "source": [
    "pip install mechanize\n"
   ]
  },
  {
   "cell_type": "code",
   "execution_count": 19,
   "metadata": {},
   "outputs": [],
   "source": [
    "import csv\n",
    "from bs4 import BeautifulSoup\n",
    "from selenium import webdriver\n",
    "import requests"
   ]
  },
  {
   "cell_type": "code",
   "execution_count": 20,
   "metadata": {},
   "outputs": [],
   "source": [
    "from time import sleep\n",
    "from random import randint"
   ]
  },
  {
   "cell_type": "code",
   "execution_count": 21,
   "metadata": {},
   "outputs": [],
   "source": [
    "import mechanize\n",
    "br = mechanize.Browser()\n",
    "br.set_handle_robots(False)"
   ]
  },
  {
   "cell_type": "code",
   "execution_count": 22,
   "metadata": {},
   "outputs": [],
   "source": [
    "headers = {\"User-Agent\":\"Mozilla/5.0 (platform; rv:geckoversion) Gecko/geckotrail Firefox/firefoxversion\"}\n",
    "#print(res.text)\n",
    "#print(res.status_code)"
   ]
  },
  {
   "cell_type": "code",
   "execution_count": null,
   "metadata": {},
   "outputs": [],
   "source": []
  },
  {
   "cell_type": "code",
   "execution_count": 5,
   "metadata": {},
   "outputs": [],
   "source": [
    "#PATH = \"/home/perman/Documents/geckodriver\"\n",
    "#driver = webdriver.Firefox(PATH)\n",
    "\n",
    "driver = webdriver.Firefox(executable_path='/home/perman/Documents/geckodriver')\n"
   ]
  },
  {
   "cell_type": "code",
   "execution_count": 6,
   "metadata": {},
   "outputs": [],
   "source": [
    "url = \"https://ieeexplore.ieee.org/search/searchresult.jsp?newsearch=true&queryText=image%20processing\"\n",
    "driver.get(url)"
   ]
  },
  {
   "cell_type": "code",
   "execution_count": null,
   "metadata": {},
   "outputs": [],
   "source": []
  },
  {
   "cell_type": "code",
   "execution_count": 7,
   "metadata": {},
   "outputs": [],
   "source": [
    "soup = BeautifulSoup(driver.page_source,'html.parser')\n",
    "#soup\n"
   ]
  },
  {
   "cell_type": "code",
   "execution_count": 10,
   "metadata": {},
   "outputs": [],
   "source": [
    "#results = soup.find_all('div',{'class':'stats-search-page xpl-serp ng2-app'})\n",
    "results = soup.find_all('div',{'class':'List-results-items'})"
   ]
  },
  {
   "cell_type": "code",
   "execution_count": 11,
   "metadata": {},
   "outputs": [
    {
     "data": {
      "text/plain": [
       "[]"
      ]
     },
     "execution_count": 11,
     "metadata": {},
     "output_type": "execute_result"
    }
   ],
   "source": [
    "results"
   ]
  },
  {
   "cell_type": "code",
   "execution_count": 23,
   "metadata": {},
   "outputs": [],
   "source": [
    "def get_url(search_term):\n",
    "    template = 'https://ieeexplore.ieee.org/search/searchresult.jsp?newsearch=true&queryText={}'\n",
    "    search_term = search_term.replace(' ', '%20')\n",
    "    url = template.format(search_term)\n",
    "    \n",
    "    url += '&highlight=true&returnFacets=ALL&returnType=SEARCH&matchPubs=true&pageNumber={}'\n",
    "    \n",
    "    return url"
   ]
  },
  {
   "cell_type": "code",
   "execution_count": 13,
   "metadata": {},
   "outputs": [
    {
     "data": {
      "text/plain": [
       "'https://ieeexplore.ieee.org/search/searchresult.jsp?newsearch=true&queryText=&pageNumber={}'"
      ]
     },
     "execution_count": 13,
     "metadata": {},
     "output_type": "execute_result"
    }
   ],
   "source": []
  },
  {
   "cell_type": "code",
   "execution_count": 14,
   "metadata": {},
   "outputs": [
    {
     "ename": "IndexError",
     "evalue": "list index out of range",
     "output_type": "error",
     "traceback": [
      "\u001b[0;31m---------------------------------------------------------------------------\u001b[0m",
      "\u001b[0;31mIndexError\u001b[0m                                Traceback (most recent call last)",
      "\u001b[0;32m<ipython-input-14-e7a3310a2330>\u001b[0m in \u001b[0;36m<module>\u001b[0;34m\u001b[0m\n\u001b[0;32m----> 1\u001b[0;31m \u001b[0mitem\u001b[0m \u001b[0;34m=\u001b[0m \u001b[0mresults\u001b[0m\u001b[0;34m[\u001b[0m\u001b[0;36m0\u001b[0m\u001b[0;34m]\u001b[0m\u001b[0;34m\u001b[0m\u001b[0;34m\u001b[0m\u001b[0m\n\u001b[0m",
      "\u001b[0;31mIndexError\u001b[0m: list index out of range"
     ]
    }
   ],
   "source": [
    "item = results[0]"
   ]
  },
  {
   "cell_type": "code",
   "execution_count": null,
   "metadata": {},
   "outputs": [],
   "source": [
    "#item"
   ]
  },
  {
   "cell_type": "code",
   "execution_count": null,
   "metadata": {},
   "outputs": [],
   "source": [
    "#_ngcontent-lcq-c44 xplanchortagroutinghandler xplhighlight xplmathjax\n",
    "#url = atag.title()\n",
    "\n",
    "atag = item.find('a')\n",
    "\n",
    "url = 'https://ieeexplore.ieee.org/' + atag.get('href')\n",
    "url\n",
    "#https://ieeexplore.ieee.org/document/274570/"
   ]
  },
  {
   "cell_type": "code",
   "execution_count": null,
   "metadata": {},
   "outputs": [],
   "source": [
    "year = item.find('div', {'class':'publisher-info-container'}).text\n",
    "year"
   ]
  },
  {
   "cell_type": "code",
   "execution_count": null,
   "metadata": {},
   "outputs": [],
   "source": [
    "title = atag.text\n",
    "title"
   ]
  },
  {
   "cell_type": "code",
   "execution_count": null,
   "metadata": {},
   "outputs": [],
   "source": [
    "def extract_record(item):\n",
    "    atag = item.find('a')\n",
    "    url = 'https://ieeexplore.ieee.org/' + atag.get('href')\n",
    "    title = atag.text\n",
    "    year = item.find('div', {'class':'publisher-info-container'}).text\n",
    "    \n",
    "    result = (title,year,url)\n",
    "    \n",
    "    return result"
   ]
  },
  {
   "cell_type": "code",
   "execution_count": null,
   "metadata": {},
   "outputs": [],
   "source": [
    "records = []\n",
    "results = soup.find_all('div',{'class':'List-results-items'})\n",
    "\n",
    "for item in results:\n",
    "    record = extract_record(item)\n",
    "    if record:\n",
    "        records.append(record)"
   ]
  },
  {
   "cell_type": "code",
   "execution_count": 1,
   "metadata": {},
   "outputs": [],
   "source": [
    "import csv\n",
    "from bs4 import BeautifulSoup\n",
    "from selenium import webdriver\n",
    "import requests\n",
    "\n",
    "from time import sleep\n",
    "from random import randint\n",
    "\n",
    "import mechanize\n",
    "br = mechanize.Browser()\n",
    "br.set_handle_robots(False)\n",
    "\n",
    "#res = requests.get('https://ieeexplore.ieee.org/search/searchresult.jsp?newsearch=true&queryText=image%20processing')\n",
    "\n",
    "headers = {\"User-Agent\":\"Mozilla/5.0 (platform; rv:geckoversion) Gecko/geckotrail Firefox/firefoxversion\"}\n",
    "#print(res.text)\n",
    "#print(res.status_code)\n",
    "\n",
    "\n",
    "def get_url(search_term):\n",
    "    template = 'https://ieeexplore.ieee.org/search/searchresult.jsp?newsearch=true&queryText={}'\n",
    "    search_term = search_term.replace(' ', '%20')\n",
    "    url = template.format(search_term)\n",
    "    \n",
    "    url += '&highlight=true&returnFacets=ALL&returnType=SEARCH&matchPubs=true&pageNumber={}'\n",
    "    \n",
    "    return url\n",
    "\n",
    "def extract_record(item):\n",
    "    atag = item.find('a')\n",
    "    try:\n",
    "        url = 'https://ieeexplore.ieee.org/' + atag.get('href')\n",
    "    except:\n",
    "        url = \" \"\n",
    "    \n",
    "    try:\n",
    "        title = atag.text\n",
    "    except:\n",
    "        title = \" \"\n",
    "    \n",
    "    try:\n",
    "        year = item.find('div', {'class':'publisher-info-container'}).text\n",
    "    except:\n",
    "        year = \" \"\n",
    "    \n",
    "    result = (title,year,url)\n",
    "    \n",
    "    return result\n",
    "\n",
    "def main(search_term):\n",
    "    driver = webdriver.Firefox(executable_path='/home/perman/Documents/geckodriver')\n",
    "\n",
    "    \n",
    "    records = []\n",
    "    url = get_url(search_term)\n",
    "    \n",
    "    for page in range(5,6):\n",
    "        driver.get(url.format(page))\n",
    "        soup = BeautifulSoup(driver.page_source, 'html.parser')\n",
    "        results = soup.find_all('div',{'class':'List-results-items'})\n",
    "        sleep(randint(20,30))\n",
    "        \n",
    "        for item in results:\n",
    "            record = extract_record(item)\n",
    "            if record:\n",
    "                records.append(record)\n",
    "                \n",
    "    driver.close()\n",
    "    \n",
    "    with open('results_ieee05.csv', 'w', newline='', encoding='utf-8') as f:\n",
    "        writer = csv.writer(f)\n",
    "        writer.writerow(['Tittle','Details','URL'])\n",
    "        writer.writerows(records)\n",
    "        "
   ]
  },
  {
   "cell_type": "code",
   "execution_count": 2,
   "metadata": {
    "scrolled": true
   },
   "outputs": [],
   "source": [
    "main('image processing')"
   ]
  },
  {
   "cell_type": "code",
   "execution_count": null,
   "metadata": {},
   "outputs": [],
   "source": []
  },
  {
   "cell_type": "code",
   "execution_count": null,
   "metadata": {},
   "outputs": [],
   "source": []
  },
  {
   "cell_type": "code",
   "execution_count": null,
   "metadata": {},
   "outputs": [],
   "source": []
  },
  {
   "cell_type": "code",
   "execution_count": null,
   "metadata": {},
   "outputs": [],
   "source": []
  },
  {
   "cell_type": "code",
   "execution_count": null,
   "metadata": {},
   "outputs": [],
   "source": []
  },
  {
   "cell_type": "code",
   "execution_count": null,
   "metadata": {},
   "outputs": [],
   "source": []
  },
  {
   "cell_type": "code",
   "execution_count": null,
   "metadata": {},
   "outputs": [],
   "source": []
  }
 ],
 "metadata": {
  "kernelspec": {
   "display_name": "Python 3",
   "language": "python",
   "name": "python3"
  },
  "language_info": {
   "codemirror_mode": {
    "name": "ipython",
    "version": 3
   },
   "file_extension": ".py",
   "mimetype": "text/x-python",
   "name": "python",
   "nbconvert_exporter": "python",
   "pygments_lexer": "ipython3",
   "version": "3.8.5"
  }
 },
 "nbformat": 4,
 "nbformat_minor": 4
}
