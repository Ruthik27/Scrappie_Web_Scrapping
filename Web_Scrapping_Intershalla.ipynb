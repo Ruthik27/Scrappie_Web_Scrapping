{
 "cells": [
  {
   "cell_type": "code",
   "execution_count": null,
   "metadata": {},
   "outputs": [],
   "source": []
  },
  {
   "cell_type": "markdown",
   "metadata": {},
   "source": [
    "https://internshala.com/internships/engineering-internship\n",
    "https://internshala.com/internships/engineering-internship-in-pune\n",
    "\n",
    "https://internshala.com/internships/engineering-internship-in-pimpri-chinchwad\n",
    "\n",
    "\n",
    "https://internshala.com/internships/engineering-internship-in-pune/page-2\n",
    "https://internshala.com/internships/engineering-internship-in-pune/page-3"
   ]
  },
  {
   "cell_type": "code",
   "execution_count": 1,
   "metadata": {},
   "outputs": [],
   "source": [
    "import csv\n",
    "from datetime import datetime\n",
    "import requests\n",
    "from bs4 import BeautifulSoup\n",
    "from selenium import webdriver"
   ]
  },
  {
   "cell_type": "code",
   "execution_count": null,
   "metadata": {},
   "outputs": [],
   "source": []
  },
  {
   "cell_type": "code",
   "execution_count": null,
   "metadata": {},
   "outputs": [],
   "source": []
  },
  {
   "cell_type": "code",
   "execution_count": null,
   "metadata": {},
   "outputs": [],
   "source": []
  },
  {
   "cell_type": "code",
   "execution_count": 2,
   "metadata": {},
   "outputs": [],
   "source": [
    "template = 'https://internshala.com/internships/{}'"
   ]
  },
  {
   "cell_type": "code",
   "execution_count": null,
   "metadata": {},
   "outputs": [],
   "source": []
  },
  {
   "cell_type": "code",
   "execution_count": null,
   "metadata": {},
   "outputs": [],
   "source": []
  },
  {
   "cell_type": "code",
   "execution_count": 3,
   "metadata": {},
   "outputs": [
    {
     "data": {
      "text/plain": [
       "'https://internshala.com/internships/engineering-internship-in-pune/page-{}'"
      ]
     },
     "execution_count": 3,
     "metadata": {},
     "output_type": "execute_result"
    }
   ],
   "source": [
    "def get_url(stream, area):\n",
    "    template = 'https://internshala.com/internships/{}{}'    \n",
    "    url = template.format(stream, area)\n",
    "    \n",
    "    url += '/page-{}'\n",
    "    \n",
    "    return url\n",
    "url = get_url('engineering-internship-','in-pune' ) \n",
    "url"
   ]
  },
  {
   "cell_type": "code",
   "execution_count": 4,
   "metadata": {},
   "outputs": [
    {
     "data": {
      "text/plain": [
       "<Response [200]>"
      ]
     },
     "execution_count": 4,
     "metadata": {},
     "output_type": "execute_result"
    }
   ],
   "source": [
    "response = requests.get(url)\n",
    "response\n"
   ]
  },
  {
   "cell_type": "code",
   "execution_count": 5,
   "metadata": {},
   "outputs": [
    {
     "data": {
      "text/plain": [
       "'OK'"
      ]
     },
     "execution_count": 5,
     "metadata": {},
     "output_type": "execute_result"
    }
   ],
   "source": [
    "response.reason"
   ]
  },
  {
   "cell_type": "code",
   "execution_count": 6,
   "metadata": {},
   "outputs": [],
   "source": [
    "soup  = BeautifulSoup( response.text,'html.parser')"
   ]
  },
  {
   "cell_type": "code",
   "execution_count": 7,
   "metadata": {},
   "outputs": [],
   "source": [
    "cards = soup.find_all('div',{'class':'internship_meta'})"
   ]
  },
  {
   "cell_type": "code",
   "execution_count": 8,
   "metadata": {},
   "outputs": [],
   "source": [
    "card = cards[0]"
   ]
  },
  {
   "cell_type": "code",
   "execution_count": 9,
   "metadata": {},
   "outputs": [],
   "source": [
    "atag = card.div.a"
   ]
  },
  {
   "cell_type": "code",
   "execution_count": 10,
   "metadata": {},
   "outputs": [],
   "source": [
    "details = 'https://internshala.com/' + atag.get('href')"
   ]
  },
  {
   "cell_type": "code",
   "execution_count": 11,
   "metadata": {},
   "outputs": [],
   "source": [
    "title = atag.text.strip()"
   ]
  },
  {
   "cell_type": "code",
   "execution_count": 12,
   "metadata": {},
   "outputs": [],
   "source": [
    "start_date = card.find('span','start_immediately_desktop').text"
   ]
  },
  {
   "cell_type": "code",
   "execution_count": 13,
   "metadata": {},
   "outputs": [],
   "source": [
    "data = card.find_all('div','item_body')"
   ]
  },
  {
   "cell_type": "code",
   "execution_count": 14,
   "metadata": {},
   "outputs": [],
   "source": [
    "duration = data[1].text.strip()"
   ]
  },
  {
   "cell_type": "code",
   "execution_count": 15,
   "metadata": {},
   "outputs": [],
   "source": [
    "stipend = data[2].text.strip()"
   ]
  },
  {
   "cell_type": "code",
   "execution_count": 16,
   "metadata": {},
   "outputs": [],
   "source": [
    "apply = data[3].text.strip()"
   ]
  },
  {
   "cell_type": "code",
   "execution_count": null,
   "metadata": {},
   "outputs": [],
   "source": []
  },
  {
   "cell_type": "code",
   "execution_count": 17,
   "metadata": {},
   "outputs": [],
   "source": [
    "def get_record(card):\n",
    "    atag = card.div.a\n",
    "    try:\n",
    "        details = 'https://internshala.com/' + atag.get('href')\n",
    "    except:\n",
    "        details = \" \"\n",
    "    \n",
    "    try:\n",
    "        title = atag.text.strip()\n",
    "    except:\n",
    "        title = \" \"\n",
    "    \n",
    "    try:\n",
    "        start_date = card.find('span','start_immediately_desktop').text\n",
    "    except:\n",
    "        start_date = \" \"\n",
    "        \n",
    "    data = card.find_all('div','item_body')\n",
    "    try:\n",
    "        duration = data[1].text.strip()\n",
    "    except:\n",
    "        duration = \" \"\n",
    "    \n",
    "    try:\n",
    "        stipend = data[2].text.strip()\n",
    "    \n",
    "    except:\n",
    "        stipend = \" \"\n",
    "        \n",
    "    try:\n",
    "        apply = data[3].text.strip()\n",
    "    except:\n",
    "        apply =\" \"\n",
    "    \n",
    "    record = (title, duration, stipend, apply, details)\n",
    "    \n",
    "    return record"
   ]
  },
  {
   "cell_type": "code",
   "execution_count": 18,
   "metadata": {},
   "outputs": [],
   "source": [
    "records= []\n",
    "\n",
    "for card in cards:\n",
    "    record = get_record(card)\n",
    "    records.append(record)"
   ]
  },
  {
   "cell_type": "code",
   "execution_count": 19,
   "metadata": {},
   "outputs": [
    {
     "data": {
      "text/plain": [
       "('Angular.js Development',\n",
       " '6 Months',\n",
       " '8000-12000 /month',\n",
       " \"25 Mar' 21\",\n",
       " 'https://internshala.com//internship/detail/angularjs-development-internship-in-pune-at-vishvarupa-infotech-llp1614843980')"
      ]
     },
     "execution_count": 19,
     "metadata": {},
     "output_type": "execute_result"
    }
   ],
   "source": [
    "records[6]"
   ]
  },
  {
   "cell_type": "code",
   "execution_count": 20,
   "metadata": {},
   "outputs": [
    {
     "data": {
      "text/plain": [
       "40"
      ]
     },
     "execution_count": 20,
     "metadata": {},
     "output_type": "execute_result"
    }
   ],
   "source": [
    "len(records)"
   ]
  },
  {
   "cell_type": "code",
   "execution_count": 33,
   "metadata": {},
   "outputs": [],
   "source": [
    "import csv\n",
    "from datetime import datetime\n",
    "import requests\n",
    "from bs4 import BeautifulSoup\n",
    "#from selenium import webdriver\n",
    "\n",
    "def get_url(stream):\n",
    "    template = 'https://internshala.com/internships/{}'    \n",
    "    url = template.format(stream)\n",
    "    \n",
    "    url += '/page-{}'\n",
    "    \n",
    "    return url\n",
    "\n",
    "def get_record(item):\n",
    "    atag = item.div.a\n",
    "    data = item.find_all('div','item_body')\n",
    "    \n",
    "    try:\n",
    "        details = 'https://internshala.com/' + atag.get('href')\n",
    "    except:\n",
    "        details = \" \"\n",
    "    \n",
    "    try:\n",
    "        title = atag.text.strip()\n",
    "    except:\n",
    "        title = \" \"\n",
    "    \n",
    "    try:\n",
    "        start_date = card.find('span','start_immediately_desktop').text\n",
    "    except:\n",
    "        start_date = \" \"\n",
    "        \n",
    "    \n",
    "    try:\n",
    "        duration = data[1].text.strip()\n",
    "    except:\n",
    "        duration = \" \"\n",
    "    \n",
    "    try:\n",
    "        stipend = data[2].text.strip()\n",
    "    \n",
    "    except:\n",
    "        stipend = \" \"\n",
    "        \n",
    "    try:\n",
    "        apply = data[3].text.strip()\n",
    "    except:\n",
    "        apply = \" \"\n",
    "    \n",
    "    result = (title, duration, stipend, apply, details)\n",
    "    \n",
    "    return result\n",
    "\n",
    "def main(stream):\n",
    "    \n",
    "    records = []\n",
    "    url = get_url(stream)\n",
    "    \n",
    "    for page in range(1,6):\n",
    "        response =  requests.get(url.format(page))\n",
    "        #response = requests.get(url.format(page))\n",
    "        #url = get_url(stream).format(page)\n",
    "        soup  = BeautifulSoup( response.text,'html.parser')\n",
    "        cards = soup.find_all('div',{'class':'internship_meta'})\n",
    "        \n",
    "        for item in cards:\n",
    "            record = get_record(item)\n",
    "            if record:\n",
    "                records.append(record)\n",
    "           \n",
    "        \n",
    "    with open('results_intershala_pune01.csv','w', newline='', encoding='utf-8') as f:\n",
    "        writer = csv.writer(f)\n",
    "        writer.writerow(['Title', 'Duration', 'Stipend', 'Apply_By', 'Details_url'])\n",
    "        writer.writerows(records)\n",
    "        \n"
   ]
  },
  {
   "cell_type": "code",
   "execution_count": 34,
   "metadata": {},
   "outputs": [],
   "source": [
    "main ('engineering-internship-in-pune')"
   ]
  },
  {
   "cell_type": "code",
   "execution_count": null,
   "metadata": {},
   "outputs": [],
   "source": []
  },
  {
   "cell_type": "code",
   "execution_count": null,
   "metadata": {},
   "outputs": [],
   "source": []
  },
  {
   "cell_type": "code",
   "execution_count": null,
   "metadata": {},
   "outputs": [],
   "source": []
  },
  {
   "cell_type": "code",
   "execution_count": null,
   "metadata": {},
   "outputs": [],
   "source": []
  },
  {
   "cell_type": "code",
   "execution_count": null,
   "metadata": {},
   "outputs": [],
   "source": []
  },
  {
   "cell_type": "code",
   "execution_count": null,
   "metadata": {},
   "outputs": [],
   "source": []
  },
  {
   "cell_type": "code",
   "execution_count": null,
   "metadata": {},
   "outputs": [],
   "source": []
  },
  {
   "cell_type": "code",
   "execution_count": null,
   "metadata": {},
   "outputs": [],
   "source": []
  }
 ],
 "metadata": {
  "kernelspec": {
   "display_name": "Python 3",
   "language": "python",
   "name": "python3"
  },
  "language_info": {
   "codemirror_mode": {
    "name": "ipython",
    "version": 3
   },
   "file_extension": ".py",
   "mimetype": "text/x-python",
   "name": "python",
   "nbconvert_exporter": "python",
   "pygments_lexer": "ipython3",
   "version": "3.8.5"
  }
 },
 "nbformat": 4,
 "nbformat_minor": 4
}
