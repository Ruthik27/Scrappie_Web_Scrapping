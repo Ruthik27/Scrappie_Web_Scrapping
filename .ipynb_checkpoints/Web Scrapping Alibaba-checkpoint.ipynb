{
 "cells": [
  {
   "cell_type": "code",
   "execution_count": null,
   "metadata": {},
   "outputs": [],
   "source": [
    "https://www.alibaba.com/trade/search?fsb=y&IndexArea=product_en&CatId=&SearchText=washing+machine\n",
    "https://www.alibaba.com/trade/search?fsb=y&IndexArea=product_en&CatId=&SearchText=smart+watch&viewtype=&tab=\n",
    "\n",
    "https://www.alibaba.com/products/washing_machines.html?IndexArea=product_en&page=2\n",
    "https://www.alibaba.com/products/smart_watches.html?IndexArea=product_en&page=2"
   ]
  },
  {
   "cell_type": "code",
   "execution_count": 9,
   "metadata": {},
   "outputs": [],
   "source": [
    "import csv\n",
    "from bs4 import BeautifulSoup\n",
    "from selenium import webdriver"
   ]
  },
  {
   "cell_type": "code",
   "execution_count": 2,
   "metadata": {},
   "outputs": [],
   "source": [
    "PATH = \"C:\\Program Files (x86)\\chromedriver.exe\"\n",
    "driver = webdriver.Chrome(PATH)"
   ]
  },
  {
   "cell_type": "code",
   "execution_count": 3,
   "metadata": {},
   "outputs": [],
   "source": [
    "url = \"https://www.alibaba.com/\"\n",
    "driver.get(url)"
   ]
  },
  {
   "cell_type": "code",
   "execution_count": 59,
   "metadata": {},
   "outputs": [],
   "source": [
    "def get_url(search_term):\n",
    "    template = \"https://www.alibaba.com/products/{}.html?IndexArea=product_en\"\n",
    "    search_term = search_term.replace(' ', '_')\n",
    "    return template.format(search_term)"
   ]
  },
  {
   "cell_type": "code",
   "execution_count": 5,
   "metadata": {},
   "outputs": [],
   "source": [
    "url = get_url('washing machines')\n",
    "driver.get(url)"
   ]
  },
  {
   "cell_type": "code",
   "execution_count": 10,
   "metadata": {},
   "outputs": [],
   "source": [
    "soup = BeautifulSoup(driver.page_source,'html.parser')"
   ]
  },
  {
   "cell_type": "code",
   "execution_count": 13,
   "metadata": {},
   "outputs": [],
   "source": [
    "results = soup.find_all('div','list-no-v2-outter J-offer-wrapper')"
   ]
  },
  {
   "cell_type": "code",
   "execution_count": 16,
   "metadata": {},
   "outputs": [],
   "source": [
    "item = results[0]"
   ]
  },
  {
   "cell_type": "code",
   "execution_count": 32,
   "metadata": {},
   "outputs": [
    {
     "data": {
      "text/plain": [
       "'https://www.alibaba.com///www.alibaba.com/product-detail/Washing-Machine-Twin-Washing-Machine-6_485304511.html?spm=a2700.galleryofferlist.topad_classic.d_title.28a52a04WyZIxv'"
      ]
     },
     "execution_count": 32,
     "metadata": {},
     "output_type": "execute_result"
    }
   ],
   "source": [
    "atag = item.find('a',{'class':'elements-title-normal one-line'})\n",
    "url = 'https://www.alibaba.com/' + atag.get('href')\n",
    "url"
   ]
  },
  {
   "cell_type": "code",
   "execution_count": 34,
   "metadata": {},
   "outputs": [
    {
     "data": {
      "text/plain": [
       "'Washing Machine Twin Washing Machine 6.8kg Twin Tub/semi Auto Washing Machine XPB68-2001SD1'"
      ]
     },
     "execution_count": 34,
     "metadata": {},
     "output_type": "execute_result"
    }
   ],
   "source": [
    "title = item.find('p',{'class':'elements-title-normal__content large'}).text\n",
    "title"
   ]
  },
  {
   "cell_type": "code",
   "execution_count": 40,
   "metadata": {},
   "outputs": [
    {
     "data": {
      "text/plain": [
       "'$20.00-$100.00'"
      ]
     },
     "execution_count": 40,
     "metadata": {},
     "output_type": "execute_result"
    }
   ],
   "source": [
    "price = item.find('span',{'class':'elements-offer-price-normal__price'}).text\n",
    "price"
   ]
  },
  {
   "cell_type": "code",
   "execution_count": 41,
   "metadata": {},
   "outputs": [
    {
     "data": {
      "text/plain": [
       "'223 Pieces'"
      ]
     },
     "execution_count": 41,
     "metadata": {},
     "output_type": "execute_result"
    }
   ],
   "source": [
    "min_order = item.find('span',{'class':'element-offer-minorder-normal__value'}).text\n",
    "min_order"
   ]
  },
  {
   "cell_type": "code",
   "execution_count": 70,
   "metadata": {},
   "outputs": [
    {
     "ename": "AttributeError",
     "evalue": "'NoneType' object has no attribute 'src'",
     "output_type": "error",
     "traceback": [
      "\u001b[1;31m---------------------------------------------------------------------------\u001b[0m",
      "\u001b[1;31mAttributeError\u001b[0m                            Traceback (most recent call last)",
      "\u001b[1;32m<ipython-input-70-318c1fe98b8f>\u001b[0m in \u001b[0;36m<module>\u001b[1;34m\u001b[0m\n\u001b[1;32m----> 1\u001b[1;33m \u001b[0mimg\u001b[0m \u001b[1;33m=\u001b[0m \u001b[0mitem\u001b[0m\u001b[1;33m.\u001b[0m\u001b[0mfind\u001b[0m\u001b[1;33m(\u001b[0m\u001b[1;34m'img'\u001b[0m\u001b[1;33m,\u001b[0m\u001b[1;33m{\u001b[0m\u001b[1;34m'class'\u001b[0m\u001b[1;33m,\u001b[0m\u001b[1;34m'J-img-switcher-item'\u001b[0m\u001b[1;33m}\u001b[0m\u001b[1;33m)\u001b[0m\u001b[1;33m.\u001b[0m\u001b[0msrc\u001b[0m\u001b[1;33m\u001b[0m\u001b[1;33m\u001b[0m\u001b[0m\n\u001b[0m\u001b[0;32m      2\u001b[0m \u001b[0mimg\u001b[0m\u001b[1;33m\u001b[0m\u001b[1;33m\u001b[0m\u001b[0m\n",
      "\u001b[1;31mAttributeError\u001b[0m: 'NoneType' object has no attribute 'src'"
     ]
    }
   ],
   "source": [
    "img = item.find('img',{'class','J-img-switcher-item'}).src\n",
    "img"
   ]
  },
  {
   "cell_type": "code",
   "execution_count": 49,
   "metadata": {},
   "outputs": [
    {
     "data": {
      "text/plain": [
       "'CN'"
      ]
     },
     "execution_count": 49,
     "metadata": {},
     "output_type": "execute_result"
    }
   ],
   "source": [
    "country = item.find('span',{'class':'seller-tag__country flex-no-shrink bg-visible'}).text\n",
    "country"
   ]
  },
  {
   "cell_type": "code",
   "execution_count": 52,
   "metadata": {},
   "outputs": [],
   "source": [
    "def extract_record(item):\n",
    "    atag = item.find('a',{'class':'elements-title-normal one-line'})\n",
    "    url = 'https://www.alibaba.com/' + atag.get('href')\n",
    "    title = item.find('p',{'class':'elements-title-normal__content large'}).text\n",
    "    price = item.find('span',{'class':'elements-offer-price-normal__price'}).text\n",
    "    min_order = item.find('span',{'class':'element-offer-minorder-normal__value'}).text\n",
    "    country = item.find('span',{'class':'seller-tag__country flex-no-shrink bg-visible'}).text\n",
    "\n",
    "    result = (country, title, price, min_order, url)\n",
    "    \n",
    "    return result"
   ]
  },
  {
   "cell_type": "code",
   "execution_count": 54,
   "metadata": {},
   "outputs": [],
   "source": [
    "records = []\n",
    "results = soup.find_all('div','list-no-v2-outter J-offer-wrapper')\n",
    "\n",
    "for item in results:\n",
    "    record = extract_record(item)\n",
    "    if record:\n",
    "        records.append(record)"
   ]
  },
  {
   "cell_type": "code",
   "execution_count": 55,
   "metadata": {},
   "outputs": [
    {
     "data": {
      "text/plain": [
       "('CN',\n",
       " 'Washing Machine Twin Washing Machine 6.8kg Twin Tub/semi Auto Washing Machine XPB68-2001SD1',\n",
       " '$20.00-$100.00',\n",
       " '223 Pieces',\n",
       " 'https://www.alibaba.com///www.alibaba.com/product-detail/Washing-Machine-Twin-Washing-Machine-6_485304511.html?spm=a2700.galleryofferlist.topad_classic.d_title.28a52a04WyZIxv')"
      ]
     },
     "execution_count": 55,
     "metadata": {},
     "output_type": "execute_result"
    }
   ],
   "source": [
    "records[0]"
   ]
  },
  {
   "cell_type": "code",
   "execution_count": 56,
   "metadata": {},
   "outputs": [],
   "source": [
    "def get_url(search_term):\n",
    "    template = \"https://www.alibaba.com/products/{}.html?IndexArea=product_en\"\n",
    "    search_term = search_term.replace(' ', '_')\n",
    "    template.format(search_term)  \n",
    "    \n",
    "    url += '&page={}'\n",
    "    \n",
    "    return url"
   ]
  },
  {
   "cell_type": "code",
   "execution_count": 65,
   "metadata": {},
   "outputs": [],
   "source": [
    "import csv\n",
    "from bs4 import BeautifulSoup\n",
    "from selenium import webdriver\n",
    "\n",
    "def get_url(search_term):\n",
    "    template = 'https://www.alibaba.com/products/{}.html?IndexArea=product_en'\n",
    "    search_term = search_term.replace(' ', '_')\n",
    "    url = template.format(search_term)\n",
    "    \n",
    "    url += '&page={}'\n",
    "    \n",
    "    return url\n",
    "\n",
    "def extract_record(item):\n",
    "    atag = item.find('a',{'class':'elements-title-normal one-line'})\n",
    "    url = 'https://www.alibaba.com/' + atag.get('href')\n",
    "    title = item.find('p',{'class':'elements-title-normal__content large'}).text\n",
    "    price = item.find('span',{'class':'elements-offer-price-normal__price'}).text\n",
    "    try:\n",
    "        min_order = item.find('span',{'class':'element-offer-minorder-normal__value'}).text\n",
    "    except AttributeError:\n",
    "        min_order = \" \"\n",
    "    \n",
    "    country = item.find('span',{'class':'seller-tag__country flex-no-shrink bg-visible'}).text\n",
    "\n",
    "    result = (country, title, price, min_order, url)\n",
    "    \n",
    "    return result\n",
    "\n",
    "def main(search_term):\n",
    "    PATH = \"C:\\Program Files (x86)\\chromedriver.exe\"\n",
    "    driver = webdriver.Chrome(PATH)\n",
    "    \n",
    "    records = []\n",
    "    url = get_url(search_term)\n",
    "    \n",
    "    for page in range(1,10):\n",
    "        driver.get(url.format(page))\n",
    "        soup = BeautifulSoup(driver.page_source, 'html.parser')\n",
    "        results = soup.find_all('div','list-no-v2-outter J-offer-wrapper')\n",
    "        \n",
    "        \n",
    "        for item in results:\n",
    "            record = extract_record(item)\n",
    "            if record:\n",
    "                records.append(record)\n",
    "                \n",
    "    driver.close()\n",
    "    \n",
    "    with open('results_alibaba.csv', 'w', newline='', encoding='utf-8') as f:\n",
    "        writer = csv.writer(f)\n",
    "        writer.writerow(['Country','Title','Price', 'Minimum_Order', 'URL'])\n",
    "        writer.writerows(records)\n"
   ]
  },
  {
   "cell_type": "code",
   "execution_count": 67,
   "metadata": {},
   "outputs": [],
   "source": [
    "main('washing machines')"
   ]
  },
  {
   "cell_type": "code",
   "execution_count": null,
   "metadata": {},
   "outputs": [],
   "source": []
  }
 ],
 "metadata": {
  "kernelspec": {
   "display_name": "Python 3",
   "language": "python",
   "name": "python3"
  },
  "language_info": {
   "codemirror_mode": {
    "name": "ipython",
    "version": 3
   },
   "file_extension": ".py",
   "mimetype": "text/x-python",
   "name": "python",
   "nbconvert_exporter": "python",
   "pygments_lexer": "ipython3",
   "version": "3.8.3"
  }
 },
 "nbformat": 4,
 "nbformat_minor": 4
}
