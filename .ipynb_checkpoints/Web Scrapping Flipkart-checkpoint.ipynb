{
 "cells": [
  {
   "cell_type": "code",
   "execution_count": null,
   "metadata": {},
   "outputs": [],
   "source": [
    "https://www.flipkart.com/search?q=smartphone&otracker=search&otracker1=search&marketplace=FLIPKART&as-show=on&as=off\n",
    "https://www.flipkart.com/search?q=headphones&otracker=search&otracker1=search&marketplace=FLIPKART&as-show=on&as=off\n",
    "https://www.flipkart.com/search?q=smart%20watches&otracker=search&otracker1=search&marketplace=FLIPKART&as-show=on&as=off\n",
    "https://www.flipkart.com/search?q=washing%20machines&otracker=search&otracker1=search&marketplace=FLIPKART&as-show=on&as=off"
   ]
  },
  {
   "cell_type": "code",
   "execution_count": 2,
   "metadata": {},
   "outputs": [],
   "source": [
    "import csv\n",
    "from bs4 import BeautifulSoup\n",
    "from selenium import webdriver\n",
    "PATH = \"C:\\Program Files (x86)\\chromedriver.exe\"\n",
    "driver = webdriver.Chrome(PATH)\n"
   ]
  },
  {
   "cell_type": "code",
   "execution_count": 3,
   "metadata": {},
   "outputs": [],
   "source": [
    "url = 'https://www.flipkart.com/'\n",
    "driver.get(url)"
   ]
  },
  {
   "cell_type": "code",
   "execution_count": 4,
   "metadata": {},
   "outputs": [],
   "source": [
    "def get_url(search_term):\n",
    "    template = 'https://www.flipkart.com/search?q={}&otracker=search&otracker1=search&marketplace=FLIPKART&as-show=on&as=off'\n",
    "    search_term = search_term.replace(' ', '%20')\n",
    "    return template.format(search_term)"
   ]
  },
  {
   "cell_type": "code",
   "execution_count": 5,
   "metadata": {},
   "outputs": [],
   "source": [
    "url = get_url('washing machines')"
   ]
  },
  {
   "cell_type": "code",
   "execution_count": 6,
   "metadata": {},
   "outputs": [],
   "source": [
    "driver.get(url)"
   ]
  },
  {
   "cell_type": "code",
   "execution_count": 9,
   "metadata": {},
   "outputs": [],
   "source": [
    "soup = BeautifulSoup(driver.page_source,'html.parser')\n"
   ]
  },
  {
   "cell_type": "code",
   "execution_count": 61,
   "metadata": {},
   "outputs": [],
   "source": [
    "results = soup.find_all('div',{'class':'_13oc-S'})\n",
    "item = results[0]"
   ]
  },
  {
   "cell_type": "code",
   "execution_count": null,
   "metadata": {
    "scrolled": true
   },
   "outputs": [],
   "source": [
    "\n"
   ]
  },
  {
   "cell_type": "code",
   "execution_count": 62,
   "metadata": {},
   "outputs": [
    {
     "data": {
      "text/plain": [
       "'Hafele 6 kg Hygiene Wash, 15 Min Wash, Smart Motor Technology Fully Automatic Front Load with In-built...'"
      ]
     },
     "execution_count": 62,
     "metadata": {},
     "output_type": "execute_result"
    }
   ],
   "source": [
    "title = item.find('div', '_4rR01T').text\n",
    "title"
   ]
  },
  {
   "cell_type": "code",
   "execution_count": 63,
   "metadata": {},
   "outputs": [
    {
     "data": {
      "text/plain": [
       "'https://www.flipkart.com//hafele-6-kg-hygiene-wash-15-min-smart-motor-technology-fully-automatic-front-load-in-built-heater-white/p/itmc858b3ce579c8?pid=WMNFUJERYMSRNZ6M&lid=LSTWMNFUJERYMSRNZ6MCVIKSU&marketplace=FLIPKART&srno=s_1_1&otracker=search&otracker1=search&fm=organic&iid=en_RWj3b7%2BvfhcdQP%2FvcY6Y9A9xd7Cf54WVZXeQMgOqfb%2B9c6H0ykrqn%2Bokctim7iTskgjaMNcss3ji3kpfXCl3ZA%3D%3D&ppt=sp&ppn=sp&ssid=6hhktihna80000001610429049113&qH=bcadf718d561cab9'"
      ]
     },
     "execution_count": 63,
     "metadata": {},
     "output_type": "execute_result"
    }
   ],
   "source": [
    "atag = item.find('a', '_1fQZEK')\n",
    "url = 'https://www.flipkart.com/' + atag.get('href')\n",
    "url"
   ]
  },
  {
   "cell_type": "code",
   "execution_count": 65,
   "metadata": {},
   "outputs": [
    {
     "data": {
      "text/plain": [
       "'₹19,990'"
      ]
     },
     "execution_count": 65,
     "metadata": {},
     "output_type": "execute_result"
    }
   ],
   "source": [
    "cprice = item.find('div', '_30jeq3 _1_WHN1').text\n",
    "cprice"
   ]
  },
  {
   "cell_type": "code",
   "execution_count": 66,
   "metadata": {},
   "outputs": [
    {
     "data": {
      "text/plain": [
       "'₹34,990'"
      ]
     },
     "execution_count": 66,
     "metadata": {},
     "output_type": "execute_result"
    }
   ],
   "source": [
    "oprice = item.find('div', '_3I9_wc _27UcVY')\n",
    "oprice"
   ]
  },
  {
   "cell_type": "code",
   "execution_count": 67,
   "metadata": {},
   "outputs": [
    {
     "data": {
      "text/plain": [
       "'₹4,200'"
      ]
     },
     "execution_count": 67,
     "metadata": {},
     "output_type": "execute_result"
    }
   ],
   "source": [
    "exchange = item.find('div',{'class':'_18hQoS','style':'color:#000000;font-size:14px;font-family:inherit;font-weight:bold'}).text\n",
    "exchange"
   ]
  },
  {
   "cell_type": "code",
   "execution_count": 68,
   "metadata": {},
   "outputs": [
    {
     "data": {
      "text/plain": [
       "'4.5'"
      ]
     },
     "execution_count": 68,
     "metadata": {},
     "output_type": "execute_result"
    }
   ],
   "source": [
    "ratings = item.find('div', '_3LWZlK').text\n",
    "ratings"
   ]
  },
  {
   "cell_type": "code",
   "execution_count": null,
   "metadata": {},
   "outputs": [],
   "source": []
  }
 ],
 "metadata": {
  "kernelspec": {
   "display_name": "Python 3",
   "language": "python",
   "name": "python3"
  },
  "language_info": {
   "codemirror_mode": {
    "name": "ipython",
    "version": 3
   },
   "file_extension": ".py",
   "mimetype": "text/x-python",
   "name": "python",
   "nbconvert_exporter": "python",
   "pygments_lexer": "ipython3",
   "version": "3.8.3"
  }
 },
 "nbformat": 4,
 "nbformat_minor": 4
}
