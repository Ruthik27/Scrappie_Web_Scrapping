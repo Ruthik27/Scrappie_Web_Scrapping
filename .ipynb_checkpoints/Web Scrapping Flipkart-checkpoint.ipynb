{
 "cells": [
  {
   "cell_type": "code",
   "execution_count": null,
   "metadata": {},
   "outputs": [],
   "source": [
    "https://www.flipkart.com/search?q=smartphone&otracker=search&otracker1=search&marketplace=FLIPKART&as-show=on&as=off\n",
    "https://www.flipkart.com/search?q=headphones&otracker=search&otracker1=search&marketplace=FLIPKART&as-show=on&as=off\n",
    "https://www.flipkart.com/search?q=smart%20watches&otracker=search&otracker1=search&marketplace=FLIPKART&as-show=on&as=off\n",
    "https://www.flipkart.com/search?q=washing%20machines&otracker=search&otracker1=search&marketplace=FLIPKART&as-show=on&as=off\n",
    "    \n",
    "    https://www.flipkart.com/search?q=washing+machines&otracker=search&otracker1=search&marketplace=FLIPKART&as-show=on&as=off&page=2\n",
    "    https://www.flipkart.com/search?q=washing+machines&otracker=search&otracker1=search&marketplace=FLIPKART&as-show=on&as=off&page=3\n",
    "    https://www.flipkart.com/search?q=washing+machines&otracker=search&otracker1=search&marketplace=FLIPKART&as-show=on&as=off&page=3"
   ]
  },
  {
   "cell_type": "code",
   "execution_count": 73,
   "metadata": {},
   "outputs": [],
   "source": [
    "import csv\n",
    "from bs4 import BeautifulSoup\n",
    "from selenium import webdriver\n",
    "PATH = \"C:\\Program Files (x86)\\chromedriver.exe\"\n",
    "driver = webdriver.Chrome(PATH)\n"
   ]
  },
  {
   "cell_type": "code",
   "execution_count": 74,
   "metadata": {},
   "outputs": [],
   "source": [
    "url = 'https://www.flipkart.com/'\n",
    "driver.get(url)"
   ]
  },
  {
   "cell_type": "code",
   "execution_count": 75,
   "metadata": {},
   "outputs": [],
   "source": [
    "def get_url(search_term):\n",
    "    template = 'https://www.flipkart.com/search?q={}&otracker=search&otracker1=search&marketplace=FLIPKART&as-show=on&as=off'\n",
    "    search_term = search_term.replace(' ', '%20')\n",
    "    return template.format(search_term)"
   ]
  },
  {
   "cell_type": "code",
   "execution_count": 76,
   "metadata": {},
   "outputs": [],
   "source": [
    "url = get_url('washing machines')"
   ]
  },
  {
   "cell_type": "code",
   "execution_count": 77,
   "metadata": {},
   "outputs": [],
   "source": [
    "driver.get(url)"
   ]
  },
  {
   "cell_type": "code",
   "execution_count": 78,
   "metadata": {},
   "outputs": [],
   "source": [
    "soup = BeautifulSoup(driver.page_source,'html.parser')\n"
   ]
  },
  {
   "cell_type": "code",
   "execution_count": 79,
   "metadata": {},
   "outputs": [],
   "source": [
    "results = soup.find_all('div',{'class':'_13oc-S'})\n",
    "item = results[0]"
   ]
  },
  {
   "cell_type": "code",
   "execution_count": null,
   "metadata": {
    "scrolled": true
   },
   "outputs": [],
   "source": [
    "\n"
   ]
  },
  {
   "cell_type": "code",
   "execution_count": 8,
   "metadata": {},
   "outputs": [
    {
     "data": {
      "text/plain": [
       "'Hafele 6 kg Hygiene Wash, 15 Min Wash, Smart Motor Technology Fully Automatic Front Load with In-built...'"
      ]
     },
     "execution_count": 8,
     "metadata": {},
     "output_type": "execute_result"
    }
   ],
   "source": [
    "title = item.find('div', '_4rR01T').text\n",
    "title"
   ]
  },
  {
   "cell_type": "code",
   "execution_count": 9,
   "metadata": {},
   "outputs": [
    {
     "data": {
      "text/plain": [
       "'https://www.flipkart.com//hafele-6-kg-hygiene-wash-15-min-smart-motor-technology-fully-automatic-front-load-in-built-heater-white/p/itmc858b3ce579c8?pid=WMNFUJERYMSRNZ6M&lid=LSTWMNFUJERYMSRNZ6MCVIKSU&marketplace=FLIPKART&srno=s_1_1&otracker=search&otracker1=search&fm=organic&iid=en_WqS3%2B3%2BrRt2Kor25SJ7NN%2FaszB7Gt5vk%2FSoOvYWzStBb0xG3FGK2xoWZGqfghOTLkgjaMNcss3ji3kpfXCl3ZA%3D%3D&ssid=2l80lj541c0000001610685201727&qH=bcadf718d561cab9'"
      ]
     },
     "execution_count": 9,
     "metadata": {},
     "output_type": "execute_result"
    }
   ],
   "source": [
    "atag = item.find('a', '_1fQZEK')\n",
    "url = 'https://www.flipkart.com/' + atag.get('href')\n",
    "url"
   ]
  },
  {
   "cell_type": "code",
   "execution_count": 10,
   "metadata": {},
   "outputs": [
    {
     "data": {
      "text/plain": [
       "'₹19,990'"
      ]
     },
     "execution_count": 10,
     "metadata": {},
     "output_type": "execute_result"
    }
   ],
   "source": [
    "cprice = item.find('div', '_30jeq3 _1_WHN1').text\n",
    "cprice"
   ]
  },
  {
   "cell_type": "code",
   "execution_count": 12,
   "metadata": {},
   "outputs": [
    {
     "data": {
      "text/plain": [
       "'₹34,990'"
      ]
     },
     "execution_count": 12,
     "metadata": {},
     "output_type": "execute_result"
    }
   ],
   "source": [
    "oprice = item.find('div', '_3I9_wc _27UcVY').text\n",
    "oprice"
   ]
  },
  {
   "cell_type": "code",
   "execution_count": 13,
   "metadata": {},
   "outputs": [
    {
     "data": {
      "text/plain": [
       "'₹4,200'"
      ]
     },
     "execution_count": 13,
     "metadata": {},
     "output_type": "execute_result"
    }
   ],
   "source": [
    "exchange = item.find('div',{'class':'_18hQoS','style':'color:#000000;font-size:14px;font-family:inherit;font-weight:bold'}).text\n",
    "exchange"
   ]
  },
  {
   "cell_type": "code",
   "execution_count": 14,
   "metadata": {},
   "outputs": [
    {
     "data": {
      "text/plain": [
       "'4.1'"
      ]
     },
     "execution_count": 14,
     "metadata": {},
     "output_type": "execute_result"
    }
   ],
   "source": [
    "ratings = item.find('div', '_3LWZlK').text\n",
    "ratings"
   ]
  },
  {
   "cell_type": "code",
   "execution_count": 55,
   "metadata": {},
   "outputs": [
    {
     "data": {
      "text/plain": [
       "'1 Reviews'"
      ]
     },
     "execution_count": 55,
     "metadata": {},
     "output_type": "execute_result"
    }
   ],
   "source": [
    "list = item.find('span','_2_R_DZ',{'span':'_13vcmD'}).text.split()\n",
    "list = list[3:5]\n",
    "review_count = \" \"\n",
    "review_count = review_count.join(list)\n",
    "review_count"
   ]
  },
  {
   "cell_type": "code",
   "execution_count": 66,
   "metadata": {},
   "outputs": [],
   "source": [
    "def extract_record(item):\n",
    "    title = item.find('div', '_4rR01T').text\n",
    "    atag = item.find('a', '_1fQZEK')\n",
    "    url = 'https://www.flipkart.com/' + atag.get('href')\n",
    "    cprice = item.find('div', '_30jeq3 _1_WHN1').text\n",
    "    oprice = item.find('div', '_3I9_wc _27UcVY').text\n",
    "    try:\n",
    "        exchange = item.find('div',{'class':'_18hQoS','style':'color:#000000;font-size:14px;font-family:inherit;font-weight:bold'}).text\n",
    "    except AttributeError:\n",
    "        exchange = \" \"\n",
    "    try:\n",
    "        ratings = item.find('div', '_3LWZlK').text\n",
    "    except AttributeError:\n",
    "        ratings = \" \"\n",
    "    try:\n",
    "        list = item.find('span','_2_R_DZ',{'span':'_13vcmD'}).text.split()\n",
    "        list = list[3:5]\n",
    "    except AttributeError:\n",
    "        list = \" \"\n",
    "    review_count = \" \"\n",
    "    review_count = review_count.join(list)\n",
    "    \n",
    "    result = (title, cprice, oprice , exchange, ratings, review_count, url)\n",
    "    return result   "
   ]
  },
  {
   "cell_type": "code",
   "execution_count": 67,
   "metadata": {},
   "outputs": [],
   "source": [
    "records = []\n",
    "results = soup.find_all('div',{'class':'_13oc-S'})\n",
    "\n",
    "for item in results:\n",
    "    record = extract_record(item)\n",
    "    if record:\n",
    "        records.append(record)"
   ]
  },
  {
   "cell_type": "code",
   "execution_count": 68,
   "metadata": {},
   "outputs": [
    {
     "data": {
      "text/plain": [
       "('Hafele 6 kg Hygiene Wash, 15 Min Wash, Smart Motor Technology Fully Automatic Front Load with In-built...',\n",
       " '₹19,990',\n",
       " '₹34,990',\n",
       " '₹4,200',\n",
       " '4.1',\n",
       " '1 Reviews',\n",
       " 'https://www.flipkart.com//hafele-6-kg-hygiene-wash-15-min-smart-motor-technology-fully-automatic-front-load-in-built-heater-white/p/itmc858b3ce579c8?pid=WMNFUJERYMSRNZ6M&lid=LSTWMNFUJERYMSRNZ6MCVIKSU&marketplace=FLIPKART&srno=s_1_1&otracker=search&otracker1=search&fm=organic&iid=en_WqS3%2B3%2BrRt2Kor25SJ7NN%2FaszB7Gt5vk%2FSoOvYWzStBb0xG3FGK2xoWZGqfghOTLkgjaMNcss3ji3kpfXCl3ZA%3D%3D&ssid=2l80lj541c0000001610685201727&qH=bcadf718d561cab9')"
      ]
     },
     "execution_count": 68,
     "metadata": {},
     "output_type": "execute_result"
    }
   ],
   "source": [
    "records[0]"
   ]
  },
  {
   "cell_type": "code",
   "execution_count": 72,
   "metadata": {},
   "outputs": [
    {
     "name": "stdout",
     "output_type": "stream",
     "text": [
      "₹19,990\n",
      "₹23,990\n",
      "₹9,488\n",
      "₹14,490\n",
      "₹20,990\n",
      "₹9,990\n",
      "₹6,990\n",
      "₹16,490\n",
      "₹22,490\n",
      "₹15,990\n",
      "₹6,790\n",
      "₹12,490\n",
      "₹10,990\n",
      "₹24,490\n",
      "₹8,590\n",
      "₹9,990\n",
      "₹11,490\n",
      "₹5,100\n",
      "₹10,790\n",
      "₹1,10,000\n",
      "₹12,740\n",
      "₹15,490\n",
      "₹10,490\n",
      "₹17,990\n"
     ]
    }
   ],
   "source": [
    "for i in records:\n",
    "    print(i[1])"
   ]
  },
  {
   "cell_type": "code",
   "execution_count": 82,
   "metadata": {},
   "outputs": [],
   "source": [
    "def get_url(search_term):\n",
    "    template = 'https://www.flipkart.com/search?q={}&otracker=search&otracker1=search&marketplace=FLIPKART&as-show=on&as=off'\n",
    "    search_term = search_term.replace(' ', '%20')\n",
    "    url = template.format(search_term)\n",
    "    \n",
    "    url += '&page={}'\n",
    "    \n",
    "    return url"
   ]
  },
  {
   "cell_type": "code",
   "execution_count": 84,
   "metadata": {},
   "outputs": [
    {
     "name": "stdout",
     "output_type": "stream",
     "text": [
      "https://www.flipkart.com/search?q=washing%20machines&otracker=search&otracker1=search&marketplace=FLIPKART&as-show=on&as=off\n"
     ]
    }
   ],
   "source": [
    "print (url)"
   ]
  },
  {
   "cell_type": "code",
   "execution_count": 90,
   "metadata": {},
   "outputs": [],
   "source": [
    "import csv\n",
    "from bs4 import BeautifulSoup\n",
    "from selenium import webdriver\n",
    "\n",
    "def get_url(search_term):\n",
    "    template = 'https://www.flipkart.com/search?q={}&otracker=search&otracker1=search&marketplace=FLIPKART&as-show=on&as=off'\n",
    "    search_term = search_term.replace(' ', '%20')\n",
    "    url = template.format(search_term)\n",
    "    \n",
    "    url += '&page={}'\n",
    "    \n",
    "    return url\n",
    "\n",
    "def extract_record(item):\n",
    "    title = item.find('div', '_4rR01T').text\n",
    "    atag = item.find('a', '_1fQZEK')\n",
    "    url = 'https://www.flipkart.com/' + atag.get('href')\n",
    "    try:\n",
    "        cprice = item.find('div', '_30jeq3 _1_WHN1').text\n",
    "    except AttributeError:\n",
    "        cprice = \" \"\n",
    "    try:\n",
    "        oprice = item.find('div', '_3I9_wc _27UcVY').text\n",
    "    except AttributeError:\n",
    "        oprice = \" \"\n",
    "    try:\n",
    "        exchange = item.find('div',{'class':'_18hQoS','style':'color:#000000;font-size:14px;font-family:inherit;font-weight:bold'}).text\n",
    "    except AttributeError:\n",
    "        exchange = \" \"\n",
    "    try:\n",
    "        ratings = item.find('div', '_3LWZlK').text\n",
    "    except AttributeError:\n",
    "        ratings = \" \"\n",
    "    try:\n",
    "        list = item.find('span','_2_R_DZ',{'span':'_13vcmD'}).text.split()\n",
    "        list = list[3:5]\n",
    "    except AttributeError:\n",
    "        list = \" \"\n",
    "    review_count = \" \"\n",
    "    review_count = review_count.join(list)\n",
    "    \n",
    "    result = (title, cprice, oprice , exchange, ratings, review_count, url)\n",
    "    return result   \n",
    "\n",
    "def main(search_term):\n",
    "\n",
    "    PATH = \"C:\\Program Files (x86)\\chromedriver.exe\"\n",
    "    driver = webdriver.Chrome(PATH)\n",
    "    \n",
    "    records = []\n",
    "    url = get_url(search_term)\n",
    "\n",
    "    for page in range(1,20):\n",
    "        driver.get(url.format(page))\n",
    "        soup = BeautifulSoup(driver.page_source, 'html.parser')\n",
    "        results = soup.find_all('div',{'class':'_13oc-S'})\n",
    "\n",
    "        \n",
    "        for item in results:\n",
    "            record = extract_record(item)\n",
    "            if record:\n",
    "                records.append(record) \n",
    "    driver.close()\n",
    "    \n",
    "    with open('results_flipkart.csv', 'w', newline='', encoding='utf-8') as f:\n",
    "        writer = csv.writer(f)\n",
    "        writer.writerow(['Title' , 'Current_Price', 'Original_Price' , 'Exchange_Price', 'Ratings', 'Review_count', 'url'])\n",
    "        writer.writerows(records)\n",
    "    "
   ]
  },
  {
   "cell_type": "code",
   "execution_count": null,
   "metadata": {},
   "outputs": [],
   "source": [
    "main('washing machine')"
   ]
  },
  {
   "cell_type": "code",
   "execution_count": null,
   "metadata": {},
   "outputs": [],
   "source": []
  }
 ],
 "metadata": {
  "kernelspec": {
   "display_name": "Python 3",
   "language": "python",
   "name": "python3"
  },
  "language_info": {
   "codemirror_mode": {
    "name": "ipython",
    "version": 3
   },
   "file_extension": ".py",
   "mimetype": "text/x-python",
   "name": "python",
   "nbconvert_exporter": "python",
   "pygments_lexer": "ipython3",
   "version": "3.8.3"
  }
 },
 "nbformat": 4,
 "nbformat_minor": 4
}
